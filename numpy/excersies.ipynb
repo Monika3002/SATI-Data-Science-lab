{
 "cells": [
  {
   "cell_type": "code",
   "execution_count": 4,
   "metadata": {},
   "outputs": [
    {
     "name": "stdout",
     "output_type": "stream",
     "text": [
      "1.24.1\n"
     ]
    }
   ],
   "source": [
    "# Q1. Write a Numpy program to get the Numpy version.\n",
    "import numpy as np\n",
    "print(np.__version__)"
   ]
  },
  {
   "cell_type": "code",
   "execution_count": 14,
   "metadata": {},
   "outputs": [
    {
     "name": "stdout",
     "output_type": "stream",
     "text": [
      "For array1: True\n",
      "For array2: False\n"
     ]
    }
   ],
   "source": [
    "# Q2. Write a NumPy program to test whether none of the elements of a given array are zero.\n",
    "import numpy as np\n",
    "\n",
    "# Example array\n",
    "array1 = np.array([1, 2, 5, 4, 5])\n",
    "array2 = np.array([0, 2, 3, 4, 5])\n",
    "\n",
    "result1 = np.all(array1!=0)\n",
    "result2 = np.all(array2!=0)\n",
    "\n",
    "\n",
    "print(\"For array1:\", result1)  # Should print True\n",
    "print(\"For array2:\", result2)  # Should print False\n",
    "    \n",
    "\n"
   ]
  },
  {
   "cell_type": "code",
   "execution_count": null,
   "metadata": {},
   "outputs": [],
   "source": [
    "# Write a NumPy program to create an element-wise comparison (greater, greater_equal, less and less_equal) of two given arrays.\n",
    "import numpy as np\n",
    "array1 = np.array([2,4,3,5,6])\n",
    "array2 = np.array([2,4,7,8,6])"
   ]
  }
 ],
 "metadata": {
  "kernelspec": {
   "display_name": "Python 3",
   "language": "python",
   "name": "python3"
  },
  "language_info": {
   "codemirror_mode": {
    "name": "ipython",
    "version": 3
   },
   "file_extension": ".py",
   "mimetype": "text/x-python",
   "name": "python",
   "nbconvert_exporter": "python",
   "pygments_lexer": "ipython3",
   "version": "3.11.0"
  },
  "orig_nbformat": 4
 },
 "nbformat": 4,
 "nbformat_minor": 2
}
